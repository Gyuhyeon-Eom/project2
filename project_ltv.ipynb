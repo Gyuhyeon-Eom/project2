{
 "cells": [
  {
   "cell_type": "code",
   "execution_count": 47,
   "id": "7d06b9d1-205c-42fe-8bf0-3b826e9cd88f",
   "metadata": {},
   "outputs": [],
   "source": [
    "def outlier_thresholds(dataframe, variable):\n",
    "    quartile1 = dataframe[variable].quantile(0.01)\n",
    "    quartile3 = dataframe[variable].quantile(0.99)\n",
    "    interquantile_range = quartile3 - quartile1\n",
    "    up_limit = quartile3 + 1.5 * interquantile_range\n",
    "    low_limit = quartile1 - 1.5 * interquantile_range\n",
    "    return low_limit, up_limit\n",
    "\n",
    "\n",
    "def replace_with_thresholds(dataframe, variable):\n",
    "    low_limit, up_limit = outlier_thresholds(dataframe, variable)\n",
    "    # dataframe.loc[(dataframe[variable] < low_limit), variable] = low_limit\n",
    "    dataframe.loc[(dataframe[variable] > up_limit), variable] = up_limit"
   ]
  },
  {
   "cell_type": "code",
   "execution_count": 48,
   "id": "99ec6438-928a-4ca5-bfac-dbe34c32457b",
   "metadata": {},
   "outputs": [
    {
     "name": "stdout",
     "output_type": "stream",
     "text": [
      "Collecting lifetimes\n",
      "  Downloading Lifetimes-0.11.3-py3-none-any.whl.metadata (4.8 kB)\n",
      "Requirement already satisfied: numpy>=1.10.0 in c:\\users\\turtl\\anaconda3\\lib\\site-packages (from lifetimes) (1.26.4)\n",
      "Requirement already satisfied: scipy>=1.0.0 in c:\\users\\turtl\\anaconda3\\lib\\site-packages (from lifetimes) (1.11.4)\n",
      "Requirement already satisfied: pandas>=0.24.0 in c:\\users\\turtl\\anaconda3\\lib\\site-packages (from lifetimes) (2.1.4)\n",
      "Collecting autograd>=1.2.0 (from lifetimes)\n",
      "  Downloading autograd-1.7.0-py3-none-any.whl.metadata (7.5 kB)\n",
      "Requirement already satisfied: dill>=0.2.6 in c:\\users\\turtl\\anaconda3\\lib\\site-packages (from lifetimes) (0.3.7)\n",
      "Requirement already satisfied: python-dateutil>=2.8.2 in c:\\users\\turtl\\anaconda3\\lib\\site-packages (from pandas>=0.24.0->lifetimes) (2.8.2)\n",
      "Requirement already satisfied: pytz>=2020.1 in c:\\users\\turtl\\anaconda3\\lib\\site-packages (from pandas>=0.24.0->lifetimes) (2023.3.post1)\n",
      "Requirement already satisfied: tzdata>=2022.1 in c:\\users\\turtl\\anaconda3\\lib\\site-packages (from pandas>=0.24.0->lifetimes) (2023.3)\n",
      "Requirement already satisfied: six>=1.5 in c:\\users\\turtl\\anaconda3\\lib\\site-packages (from python-dateutil>=2.8.2->pandas>=0.24.0->lifetimes) (1.16.0)\n",
      "Downloading Lifetimes-0.11.3-py3-none-any.whl (584 kB)\n",
      "   ---------------------------------------- 0.0/584.2 kB ? eta -:--:--\n",
      "    --------------------------------------- 10.2/584.2 kB ? eta -:--:--\n",
      "   ---------------------------------------- 584.2/584.2 kB 9.3 MB/s eta 0:00:00\n",
      "Downloading autograd-1.7.0-py3-none-any.whl (52 kB)\n",
      "   ---------------------------------------- 0.0/52.5 kB ? eta -:--:--\n",
      "   ---------------------------------------- 52.5/52.5 kB 2.8 MB/s eta 0:00:00\n",
      "Installing collected packages: autograd, lifetimes\n",
      "Successfully installed autograd-1.7.0 lifetimes-0.11.3\n",
      "Note: you may need to restart the kernel to use updated packages.\n"
     ]
    }
   ],
   "source": [
    "pip install lifetimes"
   ]
  },
  {
   "cell_type": "code",
   "execution_count": 49,
   "id": "34bc2ea7-d1cd-45ae-aba7-231dd4dc3ce1",
   "metadata": {},
   "outputs": [],
   "source": [
    "import datetime as dt\n",
    "import pandas as pd\n",
    "import matplotlib.pyplot as plt\n",
    "import seaborn as sns \n",
    "from lifetimes import BetaGeoFitter\n",
    "from lifetimes import GammaGammaFitter\n",
    "from lifetimes.plotting import plot_period_transactions\n",
    "\n",
    "pd.set_option('display.max_columns', None)\n",
    "pd.set_option('display.width', 500)\n",
    "pd.set_option('display.float_format', lambda x: '%.4f' % x)\n",
    "from sklearn.preprocessing import MinMaxScaler"
   ]
  },
  {
   "cell_type": "code",
   "execution_count": 50,
   "id": "f85422ad-e5db-472c-a433-7a8f59b90353",
   "metadata": {},
   "outputs": [],
   "source": [
    "df_ = pd.read_csv(\"online_retail.csv\")\n",
    "df = df_.copy()\n",
    "df.dropna(inplace=True)"
   ]
  },
  {
   "cell_type": "code",
   "execution_count": 51,
   "id": "e0b86b48-0b91-41e8-80b5-168f3315e5ec",
   "metadata": {},
   "outputs": [
    {
     "name": "stdout",
     "output_type": "stream",
     "text": [
      "<class 'pandas.core.frame.DataFrame'>\n",
      "Index: 824364 entries, 0 to 1067370\n",
      "Data columns (total 8 columns):\n",
      " #   Column       Non-Null Count   Dtype  \n",
      "---  ------       --------------   -----  \n",
      " 0   Invoice      824364 non-null  object \n",
      " 1   StockCode    824364 non-null  object \n",
      " 2   Description  824364 non-null  object \n",
      " 3   Quantity     824364 non-null  int64  \n",
      " 4   InvoiceDate  824364 non-null  object \n",
      " 5   Price        824364 non-null  float64\n",
      " 6   Customer ID  824364 non-null  float64\n",
      " 7   Country      824364 non-null  object \n",
      "dtypes: float64(2), int64(1), object(5)\n",
      "memory usage: 56.6+ MB\n"
     ]
    }
   ],
   "source": [
    "df.info()"
   ]
  },
  {
   "cell_type": "code",
   "execution_count": 52,
   "id": "7d70cf40-b11a-40e9-9bd3-5825dd8097d0",
   "metadata": {},
   "outputs": [
    {
     "data": {
      "text/plain": [
       "5942"
      ]
     },
     "execution_count": 52,
     "metadata": {},
     "output_type": "execute_result"
    }
   ],
   "source": [
    "df[\"Customer ID\"].nunique()"
   ]
  },
  {
   "cell_type": "code",
   "execution_count": 53,
   "id": "bb65b7be-b82d-491e-a800-76084dfe37ca",
   "metadata": {},
   "outputs": [],
   "source": [
    "df['InvoiceDate'] = pd.to_datetime(df['InvoiceDate'])"
   ]
  },
  {
   "cell_type": "code",
   "execution_count": 54,
   "id": "6497fbbb-443e-40cd-adfb-a2139ca8c5ae",
   "metadata": {},
   "outputs": [],
   "source": [
    "df = df[~df[\"Invoice\"].str.contains(\"C\", na=False)]"
   ]
  },
  {
   "cell_type": "code",
   "execution_count": 55,
   "id": "cf546364-acea-4a17-b44f-9d76e9f45f87",
   "metadata": {},
   "outputs": [],
   "source": [
    "df = df[df[\"Quantity\"] > 0]\n",
    "df = df[df[\"Price\"] > 0]"
   ]
  },
  {
   "cell_type": "code",
   "execution_count": 56,
   "id": "afd8efc7-3f60-4ba0-8602-12f2bd58eb71",
   "metadata": {},
   "outputs": [
    {
     "data": {
      "text/html": [
       "<div>\n",
       "<style scoped>\n",
       "    .dataframe tbody tr th:only-of-type {\n",
       "        vertical-align: middle;\n",
       "    }\n",
       "\n",
       "    .dataframe tbody tr th {\n",
       "        vertical-align: top;\n",
       "    }\n",
       "\n",
       "    .dataframe thead th {\n",
       "        text-align: right;\n",
       "    }\n",
       "</style>\n",
       "<table border=\"1\" class=\"dataframe\">\n",
       "  <thead>\n",
       "    <tr style=\"text-align: right;\">\n",
       "      <th></th>\n",
       "      <th>count</th>\n",
       "      <th>mean</th>\n",
       "      <th>min</th>\n",
       "      <th>25%</th>\n",
       "      <th>50%</th>\n",
       "      <th>75%</th>\n",
       "      <th>max</th>\n",
       "      <th>std</th>\n",
       "    </tr>\n",
       "  </thead>\n",
       "  <tbody>\n",
       "    <tr>\n",
       "      <th>Quantity</th>\n",
       "      <td>805549.0000</td>\n",
       "      <td>13.2905</td>\n",
       "      <td>1.0000</td>\n",
       "      <td>2.0000</td>\n",
       "      <td>5.0000</td>\n",
       "      <td>12.0000</td>\n",
       "      <td>80995.0000</td>\n",
       "      <td>143.6341</td>\n",
       "    </tr>\n",
       "    <tr>\n",
       "      <th>InvoiceDate</th>\n",
       "      <td>805549</td>\n",
       "      <td>2011-01-02 10:24:44.106814464</td>\n",
       "      <td>2009-12-01 07:45:00</td>\n",
       "      <td>2010-07-07 12:08:00</td>\n",
       "      <td>2010-12-03 15:10:00</td>\n",
       "      <td>2011-07-28 13:05:00</td>\n",
       "      <td>2011-12-09 12:50:00</td>\n",
       "      <td>NaN</td>\n",
       "    </tr>\n",
       "    <tr>\n",
       "      <th>Price</th>\n",
       "      <td>805549.0000</td>\n",
       "      <td>3.2066</td>\n",
       "      <td>0.0010</td>\n",
       "      <td>1.2500</td>\n",
       "      <td>1.9500</td>\n",
       "      <td>3.7500</td>\n",
       "      <td>10953.5000</td>\n",
       "      <td>29.1992</td>\n",
       "    </tr>\n",
       "    <tr>\n",
       "      <th>Customer ID</th>\n",
       "      <td>805549.0000</td>\n",
       "      <td>15331.9550</td>\n",
       "      <td>12346.0000</td>\n",
       "      <td>13982.0000</td>\n",
       "      <td>15271.0000</td>\n",
       "      <td>16805.0000</td>\n",
       "      <td>18287.0000</td>\n",
       "      <td>1696.7370</td>\n",
       "    </tr>\n",
       "  </tbody>\n",
       "</table>\n",
       "</div>"
      ],
      "text/plain": [
       "                  count                           mean                  min                  25%                  50%                  75%                  max       std\n",
       "Quantity    805549.0000                        13.2905               1.0000               2.0000               5.0000              12.0000           80995.0000  143.6341\n",
       "InvoiceDate      805549  2011-01-02 10:24:44.106814464  2009-12-01 07:45:00  2010-07-07 12:08:00  2010-12-03 15:10:00  2011-07-28 13:05:00  2011-12-09 12:50:00       NaN\n",
       "Price       805549.0000                         3.2066               0.0010               1.2500               1.9500               3.7500           10953.5000   29.1992\n",
       "Customer ID 805549.0000                     15331.9550           12346.0000           13982.0000           15271.0000           16805.0000           18287.0000 1696.7370"
      ]
     },
     "execution_count": 56,
     "metadata": {},
     "output_type": "execute_result"
    }
   ],
   "source": [
    "df.describe().T"
   ]
  },
  {
   "cell_type": "code",
   "execution_count": 57,
   "id": "e22347bc-9364-4774-aa10-f6fe1b7d8844",
   "metadata": {},
   "outputs": [
    {
     "data": {
      "image/png": "[encoded data removed]",
      "text/plain": [
       "<Figure size 1200x600 with 2 Axes>"
      ]
     },
     "metadata": {},
     "output_type": "display_data"
    }
   ],
   "source": [
    "plt.figure(figsize=(12, 6))\n",
    "\n",
    "# Creating a boxplot for Quantity\n",
    "plt.subplot(1, 2, 1)\n",
    "sns.boxplot(y=df['Quantity'])\n",
    "plt.title('Quantity')\n",
    "\n",
    "# Creating a boxplot for Price\n",
    "plt.subplot(1, 2, 2)\n",
    "sns.boxplot(y=df['Price'])\n",
    "plt.title('Price')\n",
    "\n",
    "# Displaying the plot\n",
    "plt.tight_layout()\n",
    "plt.show()"
   ]
  },
  {
   "cell_type": "code",
   "execution_count": 58,
   "id": "662b35e6-f747-4a7c-86b4-863216af88c9",
   "metadata": {},
   "outputs": [],
   "source": [
    "replace_with_thresholds(df, \"Quantity\")\n",
    "replace_with_thresholds(df, \"Price\")"
   ]
  },
  {
   "cell_type": "code",
   "execution_count": 59,
   "id": "4c922813-2efd-4a24-a0dd-69836b233b8e",
   "metadata": {},
   "outputs": [],
   "source": [
    "df[\"TotalPrice\"] = df[\"Quantity\"] * df[\"Price\"]"
   ]
  },
  {
   "cell_type": "code",
   "execution_count": 60,
   "id": "8a48ba43-4319-4ecd-bde9-ca964d01b0b0",
   "metadata": {},
   "outputs": [
    {
     "data": {
      "text/plain": [
       "(Timestamp('2011-12-09 12:50:00'), Timestamp('2009-12-01 07:45:00'))"
      ]
     },
     "execution_count": 60,
     "metadata": {},
     "output_type": "execute_result"
    }
   ],
   "source": [
    "df[\"InvoiceDate\"].max(), df[\"InvoiceDate\"].min()"
   ]
  },
  {
   "cell_type": "code",
   "execution_count": 61,
   "id": "127b2fbd-6a8d-4579-904f-fb93a6c903c5",
   "metadata": {},
   "outputs": [],
   "source": [
    "today_date = dt.datetime(2011, 12, 11)"
   ]
  },
  {
   "cell_type": "code",
   "execution_count": 62,
   "id": "3dbca7d6-aa87-463e-a8f1-8861a754cdae",
   "metadata": {},
   "outputs": [],
   "source": [
    "cltv_df = df.groupby('Customer ID').agg(\n",
    "    {'InvoiceDate': [lambda InvoiceDate: (InvoiceDate.max() - InvoiceDate.min()).days,\n",
    "                     lambda InvoiceDate: (today_date - InvoiceDate.min()).days],\n",
    "     'Invoice': lambda Invoice: Invoice.nunique(),\n",
    "     'TotalPrice': lambda TotalPrice: TotalPrice.sum()})\n",
    "\n",
    "cltv_df.columns = cltv_df.columns.droplevel(0)\n",
    "\n",
    "cltv_df.columns = ['recency', 'T', 'frequency', 'monetary']\n",
    "\n",
    "cltv_df[\"monetary\"] = cltv_df[\"monetary\"] / cltv_df[\"frequency\"]\n",
    "\n",
    "\n",
    "# Filters out customers who have made more than one purchase\n",
    "cltv_df = cltv_df[(cltv_df['frequency'] > 1)]\n",
    "\n",
    "# Converts recency and T from days to weeks for easier interpretation\n",
    "cltv_df[\"recency\"] = cltv_df[\"recency\"] / 7\n",
    "\n",
    "cltv_df[\"T\"] = cltv_df[\"T\"] / 7"
   ]
  },
  {
   "cell_type": "code",
   "execution_count": 63,
   "id": "d0025f7b-8043-4d3e-9371-eb627e6135d8",
   "metadata": {},
   "outputs": [
    {
     "data": {
      "text/html": [
       "<div>\n",
       "<style scoped>\n",
       "    .dataframe tbody tr th:only-of-type {\n",
       "        vertical-align: middle;\n",
       "    }\n",
       "\n",
       "    .dataframe tbody tr th {\n",
       "        vertical-align: top;\n",
       "    }\n",
       "\n",
       "    .dataframe thead th {\n",
       "        text-align: right;\n",
       "    }\n",
       "</style>\n",
       "<table border=\"1\" class=\"dataframe\">\n",
       "  <thead>\n",
       "    <tr style=\"text-align: right;\">\n",
       "      <th></th>\n",
       "      <th>recency</th>\n",
       "      <th>T</th>\n",
       "      <th>frequency</th>\n",
       "      <th>monetary</th>\n",
       "    </tr>\n",
       "    <tr>\n",
       "      <th>Customer ID</th>\n",
       "      <th></th>\n",
       "      <th></th>\n",
       "      <th></th>\n",
       "      <th></th>\n",
       "    </tr>\n",
       "  </thead>\n",
       "  <tbody>\n",
       "    <tr>\n",
       "      <th>12346.0000</th>\n",
       "      <td>57.1429</td>\n",
       "      <td>103.7143</td>\n",
       "      <td>12</td>\n",
       "      <td>58.6750</td>\n",
       "    </tr>\n",
       "    <tr>\n",
       "      <th>12347.0000</th>\n",
       "      <td>57.4286</td>\n",
       "      <td>57.8571</td>\n",
       "      <td>8</td>\n",
       "      <td>704.1650</td>\n",
       "    </tr>\n",
       "    <tr>\n",
       "      <th>12348.0000</th>\n",
       "      <td>51.7143</td>\n",
       "      <td>62.7143</td>\n",
       "      <td>5</td>\n",
       "      <td>398.3720</td>\n",
       "    </tr>\n",
       "    <tr>\n",
       "      <th>12349.0000</th>\n",
       "      <td>81.4286</td>\n",
       "      <td>84.2857</td>\n",
       "      <td>4</td>\n",
       "      <td>946.6250</td>\n",
       "    </tr>\n",
       "    <tr>\n",
       "      <th>12352.0000</th>\n",
       "      <td>50.8571</td>\n",
       "      <td>56.1429</td>\n",
       "      <td>10</td>\n",
       "      <td>209.8940</td>\n",
       "    </tr>\n",
       "    <tr>\n",
       "      <th>...</th>\n",
       "      <td>...</td>\n",
       "      <td>...</td>\n",
       "      <td>...</td>\n",
       "      <td>...</td>\n",
       "    </tr>\n",
       "    <tr>\n",
       "      <th>18281.0000</th>\n",
       "      <td>56.7143</td>\n",
       "      <td>82.5714</td>\n",
       "      <td>2</td>\n",
       "      <td>100.5700</td>\n",
       "    </tr>\n",
       "    <tr>\n",
       "      <th>18282.0000</th>\n",
       "      <td>16.8571</td>\n",
       "      <td>18.1429</td>\n",
       "      <td>2</td>\n",
       "      <td>89.0250</td>\n",
       "    </tr>\n",
       "    <tr>\n",
       "      <th>18283.0000</th>\n",
       "      <td>93.4286</td>\n",
       "      <td>94.1429</td>\n",
       "      <td>22</td>\n",
       "      <td>124.3932</td>\n",
       "    </tr>\n",
       "    <tr>\n",
       "      <th>18286.0000</th>\n",
       "      <td>35.2857</td>\n",
       "      <td>103.4286</td>\n",
       "      <td>2</td>\n",
       "      <td>641.6850</td>\n",
       "    </tr>\n",
       "    <tr>\n",
       "      <th>18287.0000</th>\n",
       "      <td>75.4286</td>\n",
       "      <td>81.7143</td>\n",
       "      <td>7</td>\n",
       "      <td>595.7043</td>\n",
       "    </tr>\n",
       "  </tbody>\n",
       "</table>\n",
       "<p>4255 rows × 4 columns</p>\n",
       "</div>"
      ],
      "text/plain": [
       "             recency        T  frequency  monetary\n",
       "Customer ID                                       \n",
       "12346.0000   57.1429 103.7143         12   58.6750\n",
       "12347.0000   57.4286  57.8571          8  704.1650\n",
       "12348.0000   51.7143  62.7143          5  398.3720\n",
       "12349.0000   81.4286  84.2857          4  946.6250\n",
       "12352.0000   50.8571  56.1429         10  209.8940\n",
       "...              ...      ...        ...       ...\n",
       "18281.0000   56.7143  82.5714          2  100.5700\n",
       "18282.0000   16.8571  18.1429          2   89.0250\n",
       "18283.0000   93.4286  94.1429         22  124.3932\n",
       "18286.0000   35.2857 103.4286          2  641.6850\n",
       "18287.0000   75.4286  81.7143          7  595.7043\n",
       "\n",
       "[4255 rows x 4 columns]"
      ]
     },
     "execution_count": 63,
     "metadata": {},
     "output_type": "execute_result"
    }
   ],
   "source": [
    "cltv_df"
   ]
  },
  {
   "cell_type": "code",
   "execution_count": 64,
   "id": "eca5dcfd-d714-419b-9974-f82881a5e63c",
   "metadata": {},
   "outputs": [
    {
     "data": {
      "text/plain": [
       "<lifetimes.BetaGeoFitter: fitted with 4255 subjects, a: 0.24, alpha: 11.24, b: 3.06, r: 1.71>"
      ]
     },
     "execution_count": 64,
     "metadata": {},
     "output_type": "execute_result"
    }
   ],
   "source": [
    "bgf = BetaGeoFitter(penalizer_coef=0.001)\n",
    "\n",
    "bgf.fit(cltv_df['frequency'],\n",
    "        cltv_df['recency'],\n",
    "        cltv_df['T'])"
   ]
  },
  {
   "cell_type": "code",
   "execution_count": 65,
   "id": "76b1045f-73e6-45d9-bc3a-47211f375ecb",
   "metadata": {},
   "outputs": [
    {
     "data": {
      "text/plain": [
       "Customer ID\n",
       "14911.0000   3.4132\n",
       "12748.0000   2.8943\n",
       "17841.0000   1.8170\n",
       "15311.0000   1.7910\n",
       "13089.0000   1.7474\n",
       "14606.0000   1.6575\n",
       "14156.0000   1.3320\n",
       "14646.0000   1.3041\n",
       "18102.0000   1.2524\n",
       "13694.0000   1.2373\n",
       "dtype: float64"
      ]
     },
     "execution_count": 65,
     "metadata": {},
     "output_type": "execute_result"
    }
   ],
   "source": [
    "bgf.conditional_expected_number_of_purchases_up_to_time(1,\n",
    "                                                        cltv_df['frequency'],\n",
    "                                                        cltv_df['recency'],\n",
    "                                                        cltv_df['T']).sort_values(ascending=False).head(10)"
   ]
  },
  {
   "cell_type": "code",
   "execution_count": 67,
   "id": "2be49290-98c7-4d4c-8a93-8827709666e1",
   "metadata": {},
   "outputs": [
    {
     "data": {
      "text/plain": [
       "Customer ID\n",
       "14911.0000   3.4132\n",
       "12748.0000   2.8943\n",
       "17841.0000   1.8170\n",
       "15311.0000   1.7910\n",
       "13089.0000   1.7474\n",
       "14606.0000   1.6575\n",
       "14156.0000   1.3320\n",
       "14646.0000   1.3041\n",
       "18102.0000   1.2524\n",
       "13694.0000   1.2373\n",
       "dtype: float64"
      ]
     },
     "execution_count": 67,
     "metadata": {},
     "output_type": "execute_result"
    }
   ],
   "source": [
    "bgf.predict(1,\n",
    "            cltv_df['frequency'],\n",
    "            cltv_df['recency'],\n",
    "            cltv_df['T']).sort_values(ascending=False).head(10)"
   ]
  },
  {
   "cell_type": "code",
   "execution_count": 68,
   "id": "467df5ea-ca7f-4ea8-97a4-96230bfd4e1a",
   "metadata": {},
   "outputs": [],
   "source": [
    "cltv_df[\"expected_purc_1_week\"] = bgf.predict(1,\n",
    "                                              cltv_df['frequency'],\n",
    "                                              cltv_df['recency'],\n",
    "                                              cltv_df['T'])"
   ]
  },
  {
   "cell_type": "code",
   "execution_count": 69,
   "id": "a611e050-b082-40ed-9ba6-4480694fd9bd",
   "metadata": {},
   "outputs": [],
   "source": [
    "cltv_df[\"expected_purc_1_month\"] = bgf.predict(4,\n",
    "                                               cltv_df['frequency'],\n",
    "                                               cltv_df['recency'],\n",
    "                                               cltv_df['T'])"
   ]
  },
  {
   "cell_type": "code",
   "execution_count": 70,
   "id": "da552c10-3d12-4d28-9bf3-20b3c0bcae48",
   "metadata": {},
   "outputs": [],
   "source": [
    "cltv_df[\"expected_purc_3_month\"] = bgf.predict(4 * 3,\n",
    "                                               cltv_df['frequency'],\n",
    "                                               cltv_df['recency'],\n",
    "                                               cltv_df['T'])"
   ]
  },
  {
   "cell_type": "code",
   "execution_count": 71,
   "id": "18e353f9-722d-4c95-880c-8198e469d8c2",
   "metadata": {},
   "outputs": [
    {
     "data": {
      "image/png": "[encoded data removed]",
      "text/plain": [
       "<Figure size 640x480 with 1 Axes>"
      ]
     },
     "metadata": {},
     "output_type": "display_data"
    }
   ],
   "source": [
    "plot_period_transactions(bgf)\n",
    "plt.show()"
   ]
  },
  {
   "cell_type": "code",
   "execution_count": 72,
   "id": "cd7df189-d0bd-4379-a2bc-79ddaeb41887",
   "metadata": {},
   "outputs": [
    {
     "data": {
      "text/plain": [
       "<lifetimes.GammaGammaFitter: fitted with 4255 subjects, p: 3.80, q: 0.34, v: 3.74>"
      ]
     },
     "execution_count": 72,
     "metadata": {},
     "output_type": "execute_result"
    }
   ],
   "source": [
    "ggf = GammaGammaFitter(penalizer_coef=0.01)\n",
    "\n",
    "ggf.fit(cltv_df['frequency'], cltv_df['monetary'])"
   ]
  },
  {
   "cell_type": "code",
   "execution_count": 73,
   "id": "e9060fef-8f87-4bc6-adda-3e07cea4b400",
   "metadata": {},
   "outputs": [
    {
     "data": {
      "text/html": [
       "<div>\n",
       "<style scoped>\n",
       "    .dataframe tbody tr th:only-of-type {\n",
       "        vertical-align: middle;\n",
       "    }\n",
       "\n",
       "    .dataframe tbody tr th {\n",
       "        vertical-align: top;\n",
       "    }\n",
       "\n",
       "    .dataframe thead th {\n",
       "        text-align: right;\n",
       "    }\n",
       "</style>\n",
       "<table border=\"1\" class=\"dataframe\">\n",
       "  <thead>\n",
       "    <tr style=\"text-align: right;\">\n",
       "      <th></th>\n",
       "      <th>recency</th>\n",
       "      <th>T</th>\n",
       "      <th>frequency</th>\n",
       "      <th>monetary</th>\n",
       "      <th>expected_purc_1_week</th>\n",
       "      <th>expected_purc_1_month</th>\n",
       "      <th>expected_purc_3_month</th>\n",
       "      <th>expected_average_profit</th>\n",
       "    </tr>\n",
       "    <tr>\n",
       "      <th>Customer ID</th>\n",
       "      <th></th>\n",
       "      <th></th>\n",
       "      <th></th>\n",
       "      <th></th>\n",
       "      <th></th>\n",
       "      <th></th>\n",
       "      <th></th>\n",
       "      <th></th>\n",
       "    </tr>\n",
       "  </thead>\n",
       "  <tbody>\n",
       "    <tr>\n",
       "      <th>12357.0000</th>\n",
       "      <td>50.7143</td>\n",
       "      <td>55.5714</td>\n",
       "      <td>3</td>\n",
       "      <td>5824.8667</td>\n",
       "      <td>0.0660</td>\n",
       "      <td>0.2629</td>\n",
       "      <td>0.7793</td>\n",
       "      <td>6182.8322</td>\n",
       "    </tr>\n",
       "    <tr>\n",
       "      <th>12590.0000</th>\n",
       "      <td>0.0000</td>\n",
       "      <td>30.2857</td>\n",
       "      <td>2</td>\n",
       "      <td>4597.6125</td>\n",
       "      <td>0.0106</td>\n",
       "      <td>0.0419</td>\n",
       "      <td>0.1236</td>\n",
       "      <td>5035.2460</td>\n",
       "    </tr>\n",
       "    <tr>\n",
       "      <th>12415.0000</th>\n",
       "      <td>71.8571</td>\n",
       "      <td>75.4286</td>\n",
       "      <td>28</td>\n",
       "      <td>5003.3098</td>\n",
       "      <td>0.3332</td>\n",
       "      <td>1.3277</td>\n",
       "      <td>3.9433</td>\n",
       "      <td>5034.5651</td>\n",
       "    </tr>\n",
       "    <tr>\n",
       "      <th>14091.0000</th>\n",
       "      <td>6.2857</td>\n",
       "      <td>99.8571</td>\n",
       "      <td>2</td>\n",
       "      <td>4562.8450</td>\n",
       "      <td>0.0006</td>\n",
       "      <td>0.0024</td>\n",
       "      <td>0.0071</td>\n",
       "      <td>4997.1846</td>\n",
       "    </tr>\n",
       "    <tr>\n",
       "      <th>14088.0000</th>\n",
       "      <td>58.5714</td>\n",
       "      <td>60.2857</td>\n",
       "      <td>16</td>\n",
       "      <td>3986.0988</td>\n",
       "      <td>0.2424</td>\n",
       "      <td>0.9650</td>\n",
       "      <td>2.8607</td>\n",
       "      <td>4029.9276</td>\n",
       "    </tr>\n",
       "    <tr>\n",
       "      <th>18102.0000</th>\n",
       "      <td>105.4286</td>\n",
       "      <td>105.5714</td>\n",
       "      <td>145</td>\n",
       "      <td>3726.6687</td>\n",
       "      <td>1.2524</td>\n",
       "      <td>4.9945</td>\n",
       "      <td>14.8687</td>\n",
       "      <td>3731.1484</td>\n",
       "    </tr>\n",
       "    <tr>\n",
       "      <th>12753.0000</th>\n",
       "      <td>48.4286</td>\n",
       "      <td>51.8571</td>\n",
       "      <td>6</td>\n",
       "      <td>3571.5650</td>\n",
       "      <td>0.1168</td>\n",
       "      <td>0.4646</td>\n",
       "      <td>1.3760</td>\n",
       "      <td>3678.2984</td>\n",
       "    </tr>\n",
       "    <tr>\n",
       "      <th>12409.0000</th>\n",
       "      <td>69.4286</td>\n",
       "      <td>80.8571</td>\n",
       "      <td>7</td>\n",
       "      <td>3345.6129</td>\n",
       "      <td>0.0873</td>\n",
       "      <td>0.3478</td>\n",
       "      <td>1.0340</td>\n",
       "      <td>3430.9834</td>\n",
       "    </tr>\n",
       "    <tr>\n",
       "      <th>15749.0000</th>\n",
       "      <td>13.8571</td>\n",
       "      <td>47.5714</td>\n",
       "      <td>3</td>\n",
       "      <td>3231.7133</td>\n",
       "      <td>0.0223</td>\n",
       "      <td>0.0889</td>\n",
       "      <td>0.2631</td>\n",
       "      <td>3430.9068</td>\n",
       "    </tr>\n",
       "    <tr>\n",
       "      <th>14646.0000</th>\n",
       "      <td>105.0000</td>\n",
       "      <td>105.4286</td>\n",
       "      <td>151</td>\n",
       "      <td>3361.4186</td>\n",
       "      <td>1.3041</td>\n",
       "      <td>5.2010</td>\n",
       "      <td>15.4834</td>\n",
       "      <td>3365.3009</td>\n",
       "    </tr>\n",
       "  </tbody>\n",
       "</table>\n",
       "</div>"
      ],
      "text/plain": [
       "             recency        T  frequency  monetary  expected_purc_1_week  expected_purc_1_month  expected_purc_3_month  expected_average_profit\n",
       "Customer ID                                                                                                                                    \n",
       "12357.0000   50.7143  55.5714          3 5824.8667                0.0660                 0.2629                 0.7793                6182.8322\n",
       "12590.0000    0.0000  30.2857          2 4597.6125                0.0106                 0.0419                 0.1236                5035.2460\n",
       "12415.0000   71.8571  75.4286         28 5003.3098                0.3332                 1.3277                 3.9433                5034.5651\n",
       "14091.0000    6.2857  99.8571          2 4562.8450                0.0006                 0.0024                 0.0071                4997.1846\n",
       "14088.0000   58.5714  60.2857         16 3986.0988                0.2424                 0.9650                 2.8607                4029.9276\n",
       "18102.0000  105.4286 105.5714        145 3726.6687                1.2524                 4.9945                14.8687                3731.1484\n",
       "12753.0000   48.4286  51.8571          6 3571.5650                0.1168                 0.4646                 1.3760                3678.2984\n",
       "12409.0000   69.4286  80.8571          7 3345.6129                0.0873                 0.3478                 1.0340                3430.9834\n",
       "15749.0000   13.8571  47.5714          3 3231.7133                0.0223                 0.0889                 0.2631                3430.9068\n",
       "14646.0000  105.0000 105.4286        151 3361.4186                1.3041                 5.2010                15.4834                3365.3009"
      ]
     },
     "execution_count": 73,
     "metadata": {},
     "output_type": "execute_result"
    }
   ],
   "source": [
    "cltv_df[\"expected_average_profit\"] = ggf.conditional_expected_average_profit(cltv_df['frequency'],\n",
    "                                                                             cltv_df['monetary'])\n",
    "cltv_df.sort_values(\"expected_average_profit\", ascending=False).head(10)"
   ]
  },
  {
   "cell_type": "code",
   "execution_count": 74,
   "id": "fb382293-00a5-47e5-9de3-333993f5f622",
   "metadata": {},
   "outputs": [],
   "source": [
    "cltv = ggf.customer_lifetime_value(bgf,\n",
    "                                   cltv_df['frequency'],\n",
    "                                   cltv_df['recency'],\n",
    "                                   cltv_df['T'],\n",
    "                                   cltv_df['monetary'],\n",
    "                                   time=3,  # 3 months\n",
    "                                   freq=\"W\",  # Frequency of (weekly).\n",
    "                                   discount_rate=0.01)"
   ]
  },
  {
   "cell_type": "code",
   "execution_count": 75,
   "id": "b9779914-a6d5-407a-939c-8df020b3551f",
   "metadata": {},
   "outputs": [],
   "source": [
    "cltv = cltv.reset_index()\n",
    "\n",
    "cltv_final = cltv_df.merge(cltv, on=\"Customer ID\", how=\"left\")"
   ]
  },
  {
   "cell_type": "code",
   "execution_count": 76,
   "id": "ed729ffb-f180-48fa-afeb-3d355986be16",
   "metadata": {},
   "outputs": [
    {
     "data": {
      "text/html": [
       "<div>\n",
       "<style scoped>\n",
       "    .dataframe tbody tr th:only-of-type {\n",
       "        vertical-align: middle;\n",
       "    }\n",
       "\n",
       "    .dataframe tbody tr th {\n",
       "        vertical-align: top;\n",
       "    }\n",
       "\n",
       "    .dataframe thead th {\n",
       "        text-align: right;\n",
       "    }\n",
       "</style>\n",
       "<table border=\"1\" class=\"dataframe\">\n",
       "  <thead>\n",
       "    <tr style=\"text-align: right;\">\n",
       "      <th></th>\n",
       "      <th>Customer ID</th>\n",
       "      <th>recency</th>\n",
       "      <th>T</th>\n",
       "      <th>frequency</th>\n",
       "      <th>monetary</th>\n",
       "      <th>expected_purc_1_week</th>\n",
       "      <th>expected_purc_1_month</th>\n",
       "      <th>expected_purc_3_month</th>\n",
       "      <th>expected_average_profit</th>\n",
       "      <th>clv</th>\n",
       "    </tr>\n",
       "  </thead>\n",
       "  <tbody>\n",
       "    <tr>\n",
       "      <th>4139</th>\n",
       "      <td>18102.0000</td>\n",
       "      <td>105.4286</td>\n",
       "      <td>105.5714</td>\n",
       "      <td>145</td>\n",
       "      <td>3726.6687</td>\n",
       "      <td>1.2524</td>\n",
       "      <td>4.9945</td>\n",
       "      <td>14.8687</td>\n",
       "      <td>3731.1484</td>\n",
       "      <td>59022.9051</td>\n",
       "    </tr>\n",
       "    <tr>\n",
       "      <th>1652</th>\n",
       "      <td>14646.0000</td>\n",
       "      <td>105.0000</td>\n",
       "      <td>105.4286</td>\n",
       "      <td>151</td>\n",
       "      <td>3361.4186</td>\n",
       "      <td>1.3041</td>\n",
       "      <td>5.2010</td>\n",
       "      <td>15.4834</td>\n",
       "      <td>3365.3009</td>\n",
       "      <td>55436.1993</td>\n",
       "    </tr>\n",
       "    <tr>\n",
       "      <th>1290</th>\n",
       "      <td>14156.0000</td>\n",
       "      <td>104.0000</td>\n",
       "      <td>105.5714</td>\n",
       "      <td>156</td>\n",
       "      <td>1903.5948</td>\n",
       "      <td>1.3320</td>\n",
       "      <td>5.3121</td>\n",
       "      <td>15.8141</td>\n",
       "      <td>1905.7332</td>\n",
       "      <td>32063.4678</td>\n",
       "    </tr>\n",
       "    <tr>\n",
       "      <th>1840</th>\n",
       "      <td>14911.0000</td>\n",
       "      <td>105.2857</td>\n",
       "      <td>105.5714</td>\n",
       "      <td>398</td>\n",
       "      <td>709.3988</td>\n",
       "      <td>3.4132</td>\n",
       "      <td>13.6120</td>\n",
       "      <td>40.5224</td>\n",
       "      <td>709.7169</td>\n",
       "      <td>30597.3079</td>\n",
       "    </tr>\n",
       "    <tr>\n",
       "      <th>3682</th>\n",
       "      <td>17450.0000</td>\n",
       "      <td>61.2857</td>\n",
       "      <td>62.7143</td>\n",
       "      <td>51</td>\n",
       "      <td>3334.3318</td>\n",
       "      <td>0.7029</td>\n",
       "      <td>2.7988</td>\n",
       "      <td>8.2981</td>\n",
       "      <td>3345.7601</td>\n",
       "      <td>29523.8465</td>\n",
       "    </tr>\n",
       "    <tr>\n",
       "      <th>1247</th>\n",
       "      <td>14096.0000</td>\n",
       "      <td>13.8571</td>\n",
       "      <td>14.5714</td>\n",
       "      <td>17</td>\n",
       "      <td>3163.4965</td>\n",
       "      <td>0.7071</td>\n",
       "      <td>2.7932</td>\n",
       "      <td>8.1358</td>\n",
       "      <td>3196.2592</td>\n",
       "      <td>27600.9279</td>\n",
       "    </tr>\n",
       "    <tr>\n",
       "      <th>51</th>\n",
       "      <td>12415.0000</td>\n",
       "      <td>71.8571</td>\n",
       "      <td>75.4286</td>\n",
       "      <td>28</td>\n",
       "      <td>5003.3098</td>\n",
       "      <td>0.3332</td>\n",
       "      <td>1.3277</td>\n",
       "      <td>3.9433</td>\n",
       "      <td>5034.5651</td>\n",
       "      <td>21115.8852</td>\n",
       "    </tr>\n",
       "    <tr>\n",
       "      <th>949</th>\n",
       "      <td>13694.0000</td>\n",
       "      <td>104.4286</td>\n",
       "      <td>105.1429</td>\n",
       "      <td>143</td>\n",
       "      <td>1338.7443</td>\n",
       "      <td>1.2373</td>\n",
       "      <td>4.9344</td>\n",
       "      <td>14.6894</td>\n",
       "      <td>1340.3929</td>\n",
       "      <td>20947.8726</td>\n",
       "    </tr>\n",
       "    <tr>\n",
       "      <th>3728</th>\n",
       "      <td>17511.0000</td>\n",
       "      <td>104.8571</td>\n",
       "      <td>105.4286</td>\n",
       "      <td>60</td>\n",
       "      <td>2924.4313</td>\n",
       "      <td>0.5257</td>\n",
       "      <td>2.0967</td>\n",
       "      <td>6.2421</td>\n",
       "      <td>2932.9545</td>\n",
       "      <td>19477.9350</td>\n",
       "    </tr>\n",
       "    <tr>\n",
       "      <th>3114</th>\n",
       "      <td>16684.0000</td>\n",
       "      <td>104.0000</td>\n",
       "      <td>104.7143</td>\n",
       "      <td>55</td>\n",
       "      <td>2513.8125</td>\n",
       "      <td>0.4858</td>\n",
       "      <td>1.9373</td>\n",
       "      <td>5.7672</td>\n",
       "      <td>2521.8167</td>\n",
       "      <td>15473.3025</td>\n",
       "    </tr>\n",
       "  </tbody>\n",
       "</table>\n",
       "</div>"
      ],
      "text/plain": [
       "      Customer ID  recency        T  frequency  monetary  expected_purc_1_week  expected_purc_1_month  expected_purc_3_month  expected_average_profit        clv\n",
       "4139   18102.0000 105.4286 105.5714        145 3726.6687                1.2524                 4.9945                14.8687                3731.1484 59022.9051\n",
       "1652   14646.0000 105.0000 105.4286        151 3361.4186                1.3041                 5.2010                15.4834                3365.3009 55436.1993\n",
       "1290   14156.0000 104.0000 105.5714        156 1903.5948                1.3320                 5.3121                15.8141                1905.7332 32063.4678\n",
       "1840   14911.0000 105.2857 105.5714        398  709.3988                3.4132                13.6120                40.5224                 709.7169 30597.3079\n",
       "3682   17450.0000  61.2857  62.7143         51 3334.3318                0.7029                 2.7988                 8.2981                3345.7601 29523.8465\n",
       "1247   14096.0000  13.8571  14.5714         17 3163.4965                0.7071                 2.7932                 8.1358                3196.2592 27600.9279\n",
       "51     12415.0000  71.8571  75.4286         28 5003.3098                0.3332                 1.3277                 3.9433                5034.5651 21115.8852\n",
       "949    13694.0000 104.4286 105.1429        143 1338.7443                1.2373                 4.9344                14.6894                1340.3929 20947.8726\n",
       "3728   17511.0000 104.8571 105.4286         60 2924.4313                0.5257                 2.0967                 6.2421                2932.9545 19477.9350\n",
       "3114   16684.0000 104.0000 104.7143         55 2513.8125                0.4858                 1.9373                 5.7672                2521.8167 15473.3025"
      ]
     },
     "execution_count": 76,
     "metadata": {},
     "output_type": "execute_result"
    }
   ],
   "source": [
    "cltv_final.sort_values(by=\"clv\", ascending=False).head(10)"
   ]
  },
  {
   "cell_type": "code",
   "execution_count": null,
   "id": "4db16781-eb5d-4184-83df-300356f77c72",
   "metadata": {},
   "outputs": [],
   "source": []
  }
 ],
 "metadata": {
  "kernelspec": {
   "display_name": "Python 3 (ipykernel)",
   "language": "python",
   "name": "python3"
  },
  "language_info": {
   "codemirror_mode": {
    "name": "ipython",
    "version": 3
   },
   "file_extension": ".py",
   "mimetype": "text/x-python",
   "name": "python",
   "nbconvert_exporter": "python",
   "pygments_lexer": "ipython3",
   "version": "3.11.7"
  }
 },
 "nbformat": 4,
 "nbformat_minor": 5
}
